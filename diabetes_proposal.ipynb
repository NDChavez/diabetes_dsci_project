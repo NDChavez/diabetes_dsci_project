{
 "cells": [
  {
   "cell_type": "markdown",
   "id": "d8968d4e-61e6-4fdf-8579-6d9cd49da2b8",
   "metadata": {},
   "source": [
    "Diabetes - Group Project Proposal\n",
    "\n",
    "By: Nikki De Chavez, Maddie Lilly, Vincent Wang, Zhitong Zou"
   ]
  },
  {
   "cell_type": "code",
   "execution_count": 1,
   "id": "2e4d2242-63b3-4097-8788-edebf0beb4c9",
   "metadata": {},
   "outputs": [
    {
     "name": "stderr",
     "output_type": "stream",
     "text": [
      "── \u001b[1mAttaching packages\u001b[22m ─────────────────────────────────────── tidyverse 1.3.1 ──\n",
      "\n",
      "\u001b[32m✔\u001b[39m \u001b[34mggplot2\u001b[39m 3.3.6     \u001b[32m✔\u001b[39m \u001b[34mpurrr  \u001b[39m 0.3.4\n",
      "\u001b[32m✔\u001b[39m \u001b[34mtibble \u001b[39m 3.1.7     \u001b[32m✔\u001b[39m \u001b[34mdplyr  \u001b[39m 1.0.9\n",
      "\u001b[32m✔\u001b[39m \u001b[34mtidyr  \u001b[39m 1.2.0     \u001b[32m✔\u001b[39m \u001b[34mstringr\u001b[39m 1.4.0\n",
      "\u001b[32m✔\u001b[39m \u001b[34mreadr  \u001b[39m 2.1.2     \u001b[32m✔\u001b[39m \u001b[34mforcats\u001b[39m 0.5.1\n",
      "\n",
      "── \u001b[1mConflicts\u001b[22m ────────────────────────────────────────── tidyverse_conflicts() ──\n",
      "\u001b[31m✖\u001b[39m \u001b[34mdplyr\u001b[39m::\u001b[32mfilter()\u001b[39m masks \u001b[34mstats\u001b[39m::filter()\n",
      "\u001b[31m✖\u001b[39m \u001b[34mdplyr\u001b[39m::\u001b[32mlag()\u001b[39m    masks \u001b[34mstats\u001b[39m::lag()\n",
      "\n",
      "── \u001b[1mAttaching packages\u001b[22m ────────────────────────────────────── tidymodels 1.0.0 ──\n",
      "\n",
      "\u001b[32m✔\u001b[39m \u001b[34mbroom       \u001b[39m 1.0.0     \u001b[32m✔\u001b[39m \u001b[34mrsample     \u001b[39m 1.0.0\n",
      "\u001b[32m✔\u001b[39m \u001b[34mdials       \u001b[39m 1.0.0     \u001b[32m✔\u001b[39m \u001b[34mtune        \u001b[39m 1.0.0\n",
      "\u001b[32m✔\u001b[39m \u001b[34minfer       \u001b[39m 1.0.2     \u001b[32m✔\u001b[39m \u001b[34mworkflows   \u001b[39m 1.0.0\n",
      "\u001b[32m✔\u001b[39m \u001b[34mmodeldata   \u001b[39m 1.0.0     \u001b[32m✔\u001b[39m \u001b[34mworkflowsets\u001b[39m 1.0.0\n",
      "\u001b[32m✔\u001b[39m \u001b[34mparsnip     \u001b[39m 1.0.0     \u001b[32m✔\u001b[39m \u001b[34myardstick   \u001b[39m 1.0.0\n",
      "\u001b[32m✔\u001b[39m \u001b[34mrecipes     \u001b[39m 1.0.1     \n",
      "\n",
      "── \u001b[1mConflicts\u001b[22m ───────────────────────────────────────── tidymodels_conflicts() ──\n",
      "\u001b[31m✖\u001b[39m \u001b[34mscales\u001b[39m::\u001b[32mdiscard()\u001b[39m masks \u001b[34mpurrr\u001b[39m::discard()\n",
      "\u001b[31m✖\u001b[39m \u001b[34mdplyr\u001b[39m::\u001b[32mfilter()\u001b[39m   masks \u001b[34mstats\u001b[39m::filter()\n",
      "\u001b[31m✖\u001b[39m \u001b[34mrecipes\u001b[39m::\u001b[32mfixed()\u001b[39m  masks \u001b[34mstringr\u001b[39m::fixed()\n",
      "\u001b[31m✖\u001b[39m \u001b[34mdplyr\u001b[39m::\u001b[32mlag()\u001b[39m      masks \u001b[34mstats\u001b[39m::lag()\n",
      "\u001b[31m✖\u001b[39m \u001b[34myardstick\u001b[39m::\u001b[32mspec()\u001b[39m masks \u001b[34mreadr\u001b[39m::spec()\n",
      "\u001b[31m✖\u001b[39m \u001b[34mrecipes\u001b[39m::\u001b[32mstep()\u001b[39m   masks \u001b[34mstats\u001b[39m::step()\n",
      "\u001b[34m•\u001b[39m Search for functions across packages at \u001b[32mhttps://www.tidymodels.org/find/\u001b[39m\n",
      "\n"
     ]
    }
   ],
   "source": [
    "# Packages\n",
    "library(tidyverse)\n",
    "library(tidymodels)"
   ]
  },
  {
   "cell_type": "markdown",
   "id": "e48209b2-09f4-4b70-aeb8-1b34a6ec3f12",
   "metadata": {},
   "source": [
    "Introduction:\n",
    "\n",
    "Diabetes mellitus (commonly known as diabetes) is a metabolic disease wherein glucose metabolism is uncontrolled as a result of an individual’s insufficient insulin activity (“Diabetes,” 2018). Insulin is a hormone produced by the beta cells of the pancreas that regulates many metabolic pathways, one of which is the glucose metabolic pathways that helps to manage blood sugar levels (Kelley, 2000).\n",
    "\n",
    "When food is eaten, glucose from the food enters the blood, increasing blood glucose concentrations (National Institute of Diabetes and Digestive and Kidney Diseases [NIDDK], 2016). High blood glucose levels cause insulin production, helping glucose to be transported to various cells of the body as a source of energy and allowing for normal blood glucose levels to be maintained (NIDDK, 2016). Insufficient insulin activity results in high blood glucose levels (hyperglycaemia) which is one of the major symptoms of diabetes mellitus (Watkins, 1982).\n",
    "\n",
    "There are many types of diabetes, such as type 1 diabetes, type 2 diabetes, and gestational diabetes (Egan & Dinneen, 2022). Because of the limitations of the dataset, however, this project will only try to predict whether a patient does or does not have diabetes without specifying the type. Knowing whether a person is diabetic or not is important because it can result in strokes, heart and/or kidney diseases, eye problems, nerve damage, and many more (NIDDK, 2016).\n",
    "\n",
    "The question we would like to answer is:  Can we use the observations taken by the National Institute of Diabetes and Digestive and Kidney Diseases (NIDDK) to predict whether a female patient has diabetes or not?\n",
    "\n",
    "To answer this question, the dataset that will be used is originally from the National Institute of Diabetes and Digestive and Kidney Diseases (NIDDK) which conducts research on many chronic diseases to find its causes and effects (NIDDK, 2016).\n",
    "\n",
    "Where we found the dataset: https://www.kaggle.com/datasets/akshaydattatraykhare/diabetes-dataset\n",
    "\n",
    "The NIDDK conducted this research using the diagnostic records of female patients, all of whom are at least 21 years old and of Pima Indian heritage (2016).\n",
    "There are 9 variables in the dataset, which are:\n",
    "\n",
    "1. Pregnancies: Number of times pregnant \n",
    "2. Glucose: Plasma glucose concentration after 2 hours (determined using an oral glucose tolerance test)\n",
    "3. BloodPressure: Diastolic blood pressure (mm Hg) \n",
    "4. SkinThickness: Triceps skin fold thickness (mm) \n",
    "5. Insulin: 2-Hour serum insulin (mu U/ml) \n",
    "6. BMI: Body mass index (weight in kg/(height in m)^2) \n",
    "7. DiabetesPedigreeFunction: Diabetes pedigree function \n",
    "8. Age: Age (years) \n",
    "9. Outcome: Class variable (0 or 1)\n",
    "\n",
    "Note: 0 is interpreted as not having diabetes, while 1 is interpreted as having diabetes"
   ]
  },
  {
   "cell_type": "code",
   "execution_count": null,
   "id": "b9bef44b-2d27-41d8-921e-81529c4efdcc",
   "metadata": {},
   "outputs": [],
   "source": []
  }
 ],
 "metadata": {
  "kernelspec": {
   "display_name": "R",
   "language": "R",
   "name": "ir"
  },
  "language_info": {
   "codemirror_mode": "r",
   "file_extension": ".r",
   "mimetype": "text/x-r-source",
   "name": "R",
   "pygments_lexer": "r",
   "version": "4.1.3"
  }
 },
 "nbformat": 4,
 "nbformat_minor": 5
}
